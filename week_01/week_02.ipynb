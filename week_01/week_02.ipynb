{
 "cells": [
  {
   "cell_type": "markdown",
   "metadata": {},
   "source": [
    "# LIFE113. Week 2 Worksheet\n",
    "\n",
    "## Manipulating numbers\n",
    "\n",
    "Learning Objectives:\n",
    "  + Do this\n",
    "  + Do that"
   ]
  },
  {
   "cell_type": "markdown",
   "metadata": {},
   "source": [
    "## Problems\n",
    "\n",
    "Complete ALL of the following problems\n",
    "\n",
    "***"
   ]
  },
  {
   "cell_type": "markdown",
   "metadata": {},
   "source": [
    "### 1.01\n",
    "Solve the following equation for x\n",
    "\n",
    "$$ 3x = 15 $$\n",
    "\n",
    "Answer: $x = $ \n",
    "***"
   ]
  },
  {
   "cell_type": "markdown",
   "metadata": {},
   "source": [
    "### 1.02\n",
    "Solve the following equation for x\n",
    "\n",
    "$$ 3x = 15 $$\n",
    "\n",
    "Answer: $x = $ \n",
    "***"
   ]
  },
  {
   "cell_type": "markdown",
   "metadata": {},
   "source": [
    "### 1.03\n",
    "Solve the following equation for x\n",
    "\n",
    "$$ 3x = 15 $$\n",
    "\n",
    "Answer: $x = $ \n",
    "***"
   ]
  },
  {
   "cell_type": "code",
   "execution_count": null,
   "metadata": {},
   "outputs": [],
   "source": []
  }
 ],
 "metadata": {
  "kernelspec": {
   "display_name": "R",
   "language": "R",
   "name": "ir"
  },
  "language_info": {
   "codemirror_mode": "r",
   "file_extension": ".r",
   "mimetype": "text/x-r-source",
   "name": "R",
   "pygments_lexer": "r",
   "version": "3.2.3"
  }
 },
 "nbformat": 4,
 "nbformat_minor": 2
}
